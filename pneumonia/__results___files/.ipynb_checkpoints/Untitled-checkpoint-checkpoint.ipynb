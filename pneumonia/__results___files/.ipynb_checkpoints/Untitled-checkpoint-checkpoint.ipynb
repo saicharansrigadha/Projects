{
 "cells": [
  {
   "cell_type": "code",
   "execution_count": 1,
   "metadata": {},
   "outputs": [
    {
     "name": "stdout",
     "output_type": "stream",
     "text": [
      "Requirement already satisfied: imutils in c:\\users\\hp\\anaconda3\\lib\\site-packages (0.5.4)\n"
     ]
    }
   ],
   "source": [
    "!pip install imutils"
   ]
  },
  {
   "cell_type": "code",
   "execution_count": 2,
   "metadata": {},
   "outputs": [
    {
     "name": "stdout",
     "output_type": "stream",
     "text": [
      "Requirement already satisfied: opencv-contrib-python in c:\\users\\hp\\anaconda3\\lib\\site-packages (4.5.1.48)\n",
      "Requirement already satisfied: numpy>=1.14.5 in c:\\users\\hp\\anaconda3\\lib\\site-packages (from opencv-contrib-python) (1.19.5)\n"
     ]
    }
   ],
   "source": [
    "!pip install opencv-contrib-python"
   ]
  },
  {
   "cell_type": "code",
   "execution_count": 3,
   "metadata": {},
   "outputs": [
    {
     "name": "stdout",
     "output_type": "stream",
     "text": [
      "Requirement already satisfied: matplotlib in c:\\users\\hp\\anaconda3\\lib\\site-packages (3.0.3)\n",
      "Requirement already satisfied: numpy>=1.10.0 in c:\\users\\hp\\anaconda3\\lib\\site-packages (from matplotlib) (1.19.5)\n",
      "Requirement already satisfied: cycler>=0.10 in c:\\users\\hp\\anaconda3\\lib\\site-packages (from matplotlib) (0.10.0)\n",
      "Requirement already satisfied: kiwisolver>=1.0.1 in c:\\users\\hp\\anaconda3\\lib\\site-packages (from matplotlib) (1.0.1)\n",
      "Requirement already satisfied: pyparsing!=2.0.4,!=2.1.2,!=2.1.6,>=2.0.1 in c:\\users\\hp\\anaconda3\\lib\\site-packages (from matplotlib) (2.3.1)\n",
      "Requirement already satisfied: python-dateutil>=2.1 in c:\\users\\hp\\anaconda3\\lib\\site-packages (from matplotlib) (2.8.0)\n",
      "Requirement already satisfied: six in c:\\users\\hp\\anaconda3\\lib\\site-packages (from cycler>=0.10->matplotlib) (1.15.0)\n",
      "Requirement already satisfied: setuptools in c:\\users\\hp\\anaconda3\\lib\\site-packages (from kiwisolver>=1.0.1->matplotlib) (54.2.0)\n"
     ]
    }
   ],
   "source": [
    "!pip install matplotlib"
   ]
  },
  {
   "cell_type": "code",
   "execution_count": 4,
   "metadata": {},
   "outputs": [
    {
     "name": "stdout",
     "output_type": "stream",
     "text": [
      "Requirement already satisfied: pandas in c:\\users\\hp\\anaconda3\\lib\\site-packages (0.24.2)\n",
      "Requirement already satisfied: pytz>=2011k in c:\\users\\hp\\anaconda3\\lib\\site-packages (from pandas) (2018.9)\n",
      "Requirement already satisfied: numpy>=1.12.0 in c:\\users\\hp\\anaconda3\\lib\\site-packages (from pandas) (1.19.5)\n",
      "Requirement already satisfied: python-dateutil>=2.5.0 in c:\\users\\hp\\anaconda3\\lib\\site-packages (from pandas) (2.8.0)\n",
      "Requirement already satisfied: six>=1.5 in c:\\users\\hp\\anaconda3\\lib\\site-packages (from python-dateutil>=2.5.0->pandas) (1.15.0)\n"
     ]
    }
   ],
   "source": [
    "!pip install pandas"
   ]
  },
  {
   "cell_type": "code",
   "execution_count": 5,
   "metadata": {},
   "outputs": [],
   "source": [
    "from tensorflow.keras.preprocessing.image import ImageDataGenerator\n",
    "\n",
    "from tensorflow.keras.utils import to_categorical\n",
    "from sklearn.preprocessing import LabelBinarizer\n",
    "from sklearn.model_selection import train_test_split\n",
    "from sklearn.metrics import classification_report\n",
    "from sklearn.metrics import confusion_matrix\n",
    "from IPython.display import FileLink\n",
    "from imutils import paths\n",
    "import matplotlib.pyplot as plt\n",
    "import pandas as pd\n",
    "import numpy as np\n",
    "\n",
    "np.random.seed(0)\n",
    "\n",
    "import random\n",
    "import shutil\n",
    "import cv2\n",
    "import os"
   ]
  },
  {
   "cell_type": "code",
   "execution_count": 6,
   "metadata": {},
   "outputs": [],
   "source": [
    "dataset_path = './dataset'"
   ]
  },
  {
   "cell_type": "code",
   "execution_count": 7,
   "metadata": {},
   "outputs": [],
   "source": [
    "samples = 25"
   ]
  },
  {
   "cell_type": "code",
   "execution_count": 42,
   "metadata": {},
   "outputs": [
    {
     "ename": "SyntaxError",
     "evalue": "invalid syntax (<ipython-input-42-95aec26b1183>, line 1)",
     "output_type": "error",
     "traceback": [
      "\u001b[1;36m  File \u001b[1;32m\"<ipython-input-42-95aec26b1183>\"\u001b[1;36m, line \u001b[1;32m1\u001b[0m\n\u001b[1;33m    covid_dataset_path = 'C:\\Users\\HP\\Desktop\\covid 19\\dataset\\covid'`\u001b[0m\n\u001b[1;37m                                                                     ^\u001b[0m\n\u001b[1;31mSyntaxError\u001b[0m\u001b[1;31m:\u001b[0m invalid syntax\n"
     ]
    }
   ],
   "source": [
    "covid_dataset_path = '../input/covid-chest-xray'`"
   ]
  },
  {
   "cell_type": "code",
   "execution_count": null,
   "metadata": {},
   "outputs": [],
   "source": [
    "# construct the path to the metadata CSV file and load it\n",
    "#csvPath = os.path.sep.join([covid_dataset_path, \"metadata.csv\"])\n",
    "df = pd.read_csv('./dataset/metadata.csv')\n",
    "\n",
    "# loop over the rows of the COVID-19 data frame\n",
    "for (i, row) in df.iterrows():\n",
    "    # if (1) the current case is not COVID-19 or (2) this is not\n",
    "    # a 'PA' view, then ignore the row\n",
    "    if row[\"finding\"] != \"COVID-19\" or row[\"view\"] != \"PA\":\n",
    "        continue\n",
    "\n",
    "    # build the path to the input image file\n",
    "    imagePath = os.path.sep.join([covid_dataset_path, \"images\", row[\"filename\"]])\n",
    "\n",
    "    # if the input image file does not exist (there are some errors in\n",
    "    # the COVID-19 metadeta file), ignore the row\n",
    "    if not os.path.exists(imagePath):\n",
    "        continue\n",
    "\n",
    "    # extract the filename from the image path and then construct the\n",
    "    # path to the copied image file\n",
    "    filename = row[\"filename\"].split(os.path.sep)[-1]\n",
    "    outputPath = os.path.sep.join([f\"{dataset_path}/covid\", filename])\n",
    "\n",
    "    # copy the image\n",
    "    shutil.copy2(imagePath, outputPath)"
   ]
  },
  {
   "cell_type": "code",
   "execution_count": null,
   "metadata": {},
   "outputs": [],
   "source": [
    "pneumonia_dataset_path ='../input/chest-xray-pneumonia/chest_xray'"
   ]
  },
  {
   "cell_type": "code",
   "execution_count": null,
   "metadata": {},
   "outputs": [],
   "source": [
    "basePath = os.path.sep.join([pneumonia_dataset_path, \"train\", \"NORMAL\"])\n",
    "imagePaths = list(paths.list_images(basePath))\n",
    "\n",
    "# randomly sample the image paths\n",
    "random.seed(42)\n",
    "random.shuffle(imagePaths)\n",
    "imagePaths = imagePaths[:samples]\n",
    "\n",
    "# loop over the image paths\n",
    "for (i, imagePath) in enumerate(imagePaths):\n",
    "    # extract the filename from the image path and then construct the\n",
    "    # path to the copied image file\n",
    "    filename = imagePath.split(os.path.sep)[-1]\n",
    "    outputPath = os.path.sep.join([f\"{dataset_path}/normal\", filename])\n",
    "\n",
    "    # copy the image\n",
    "    shutil.copy2(imagePath, outputPath)"
   ]
  },
  {
   "cell_type": "code",
   "execution_count": null,
   "metadata": {},
   "outputs": [],
   "source": [
    "def ceildiv(a, b):\n",
    "    return -(-a // b)\n",
    "\n",
    "def plots_from_files(imspaths, figsize=(10,5), rows=1, titles=None, maintitle=None):\n",
    "    \"\"\"Plot the images in a grid\"\"\"\n",
    "    f = plt.figure(figsize=figsize)\n",
    "    if maintitle is not None: plt.suptitle(maintitle, fontsize=10)\n",
    "    for i in range(len(imspaths)):\n",
    "        sp = f.add_subplot(rows, ceildiv(len(imspaths), rows), i+1)\n",
    "        sp.axis('Off')\n",
    "        if titles is not None: sp.set_title(titles[i], fontsize=16)\n",
    "        img = plt.imread(imspaths[i])\n",
    "        plt.imshow(img)"
   ]
  },
  {
   "cell_type": "code",
   "execution_count": null,
   "metadata": {},
   "outputs": [],
   "source": [
    "normal_images = list(paths.list_images(f\"{dataset_path}/normal\"))\n",
    "covid_images = list(paths.list_images(f\"{dataset_path}/covid\"))"
   ]
  },
  {
   "cell_type": "code",
   "execution_count": null,
   "metadata": {},
   "outputs": [],
   "source": [
    "normal_images"
   ]
  },
  {
   "cell_type": "code",
   "execution_count": null,
   "metadata": {},
   "outputs": [],
   "source": [
    "covid_images"
   ]
  },
  {
   "cell_type": "code",
   "execution_count": null,
   "metadata": {},
   "outputs": [],
   "source": [
    "plots_from_files(normal_images, rows=5, maintitle=\"Normal X-ray images\")"
   ]
  },
  {
   "cell_type": "code",
   "execution_count": null,
   "metadata": {},
   "outputs": [],
   "source": [
    "plots_from_files(covid_images, rows=5, maintitle=\"Covid-19 X-ray images\")"
   ]
  },
  {
   "cell_type": "code",
   "execution_count": 9,
   "metadata": {},
   "outputs": [
    {
     "name": "stdout",
     "output_type": "stream",
     "text": [
      "[INFO] loading images...\n"
     ]
    }
   ],
   "source": [
    "# the list of data (i.e., images) and class images\n",
    "\n",
    "print(\"[INFO] loading images...\")\n",
    "imagePaths = list(paths.list_images(dataset_path))\n",
    "\n",
    "data = []\n",
    "labels = []\n",
    "\n",
    "# loop over the image paths\n",
    "for imagePath in imagePaths:\n",
    "    # extract the class label from the filename\n",
    "    label = imagePath.split(os.path.sep)[-2]\n",
    "    # load the image, swap color channels, and resize it to be a fixed\n",
    "    # 224x224 pixels while ignoring aspect ratio\n",
    "    image = cv2.imread(imagePath)\n",
    "    image = cv2.cvtColor(image, cv2.IMREAD_GRAYSCALE)\n",
    "    image = cv2.resize(image, (224, 224))\n",
    "    # update the data and labels lists, respectively\n",
    "    image_np = (image).flatten()\n",
    "    data.append(image_np)\n",
    "    labels.append(label)\n",
    "    \n",
    "# convert the data and labels to NumPy arrays while scaling the pixel\n",
    "# intensities to the range [0, 1]\n",
    "data_train = np.array(data) / 255\n",
    "labels_train = np.array(labels)"
   ]
  },
  {
   "cell_type": "code",
   "execution_count": 10,
   "metadata": {},
   "outputs": [
    {
     "data": {
      "text/plain": [
       "[array([133, 133, 133, ..., 254, 254, 255], dtype=uint8),\n",
       " array([ 51,  51,  51, ..., 151, 151, 255], dtype=uint8),\n",
       " array([ 43,  42,  44, ...,  99,  99, 255], dtype=uint8),\n",
       " array([104, 104, 104, ..., 199, 199, 255], dtype=uint8),\n",
       " array([ 19,  19,  19, ..., 145, 145, 255], dtype=uint8),\n",
       " array([  6,   6,   6, ...,  14,  14, 255], dtype=uint8),\n",
       " array([  6,   6,   6, ...,   5,   5, 255], dtype=uint8),\n",
       " array([ 79,  79,  79, ...,   3,   3, 255], dtype=uint8),\n",
       " array([  0,   0,   0, ..., 131, 131, 255], dtype=uint8),\n",
       " array([  4,   0,   0, ...,   1,   1, 255], dtype=uint8),\n",
       " array([  2,   2,   2, ...,  91,  87, 255], dtype=uint8),\n",
       " array([ 12,   9,   5, ..., 167, 167, 255], dtype=uint8),\n",
       " array([  0,   0,   0, ..., 163, 164, 255], dtype=uint8),\n",
       " array([  4,   0,   0, ..., 250, 250, 255], dtype=uint8),\n",
       " array([  0,   0,   0, ..., 144, 140, 255], dtype=uint8),\n",
       " array([ 29,  24,  25, ..., 210, 210, 255], dtype=uint8),\n",
       " array([  9,   4,   5, ..., 248, 244, 255], dtype=uint8),\n",
       " array([ 91,  91,  91, ...,  22,  22, 255], dtype=uint8),\n",
       " array([ 17,  17,  17, ...,  52,  52, 255], dtype=uint8),\n",
       " array([ 74,  74,  74, ..., 181, 181, 255], dtype=uint8),\n",
       " array([ 46,  46,  46, ...,  11,  11, 255], dtype=uint8),\n",
       " array([  2,   2,   2, ..., 162, 162, 255], dtype=uint8),\n",
       " array([ 77,  77,  77, ..., 133, 133, 255], dtype=uint8),\n",
       " array([  0,   0,   0, ..., 136, 136, 255], dtype=uint8),\n",
       " array([152, 152, 152, ...,   0,   0, 255], dtype=uint8),\n",
       " array([  0,   0,   0, ..., 175, 175, 255], dtype=uint8),\n",
       " array([  0,   0,   0, ...,  24,  24, 255], dtype=uint8),\n",
       " array([ 62,  62,  62, ..., 125, 125, 255], dtype=uint8),\n",
       " array([  4,   4,   4, ..., 124, 124, 255], dtype=uint8),\n",
       " array([  0,   0,   0, ...,   0,   0, 255], dtype=uint8),\n",
       " array([  0,   0,   0, ...,   0,   0, 255], dtype=uint8),\n",
       " array([  0,   0,   0, ...,   0,   0, 255], dtype=uint8),\n",
       " array([  0,   0,   0, ...,   0,   0, 255], dtype=uint8),\n",
       " array([255, 255, 255, ...,  17,  17, 255], dtype=uint8),\n",
       " array([ 47,  47,  47, ...,  42,  16, 255], dtype=uint8),\n",
       " array([108, 108, 108, ...,  23,  23, 255], dtype=uint8),\n",
       " array([  5,   5,   5, ...,  35,  35, 255], dtype=uint8),\n",
       " array([  4,   4,   4, ...,   4,   6, 255], dtype=uint8),\n",
       " array([  1,   1,   1, ...,   1,   1, 255], dtype=uint8),\n",
       " array([226, 226, 226, ..., 226, 226, 255], dtype=uint8),\n",
       " array([  1,   1,   1, ..., 142, 144, 255], dtype=uint8),\n",
       " array([104, 104, 104, ...,  46,  46, 255], dtype=uint8),\n",
       " array([ 12,  12,  12, ...,  39,  39, 255], dtype=uint8),\n",
       " array([  0,   0,   0, ...,  44,  44, 255], dtype=uint8),\n",
       " array([ 63,  63,  63, ...,  81,  81, 255], dtype=uint8),\n",
       " array([  0,   0,   0, ..., 153, 153, 255], dtype=uint8),\n",
       " array([ 95,  95,  95, ..., 120, 120, 255], dtype=uint8),\n",
       " array([  0,   0,   0, ...,   0,   0, 255], dtype=uint8),\n",
       " array([  0,   0,   0, ..., 206, 206, 255], dtype=uint8),\n",
       " array([ 61,  61,  61, ..., 131, 131, 255], dtype=uint8),\n",
       " array([ 50,  41,  32, ...,  44,  34, 255], dtype=uint8),\n",
       " array([  2,   2,   2, ..., 231, 231, 255], dtype=uint8),\n",
       " array([  1,   1,   1, ...,  30,  30, 255], dtype=uint8),\n",
       " array([  0,   0,   0, ...,   0,   0, 255], dtype=uint8),\n",
       " array([253, 253, 253, ..., 254, 254, 255], dtype=uint8),\n",
       " array([ 12,  12,  12, ...,   7,   7, 255], dtype=uint8),\n",
       " array([ 15,  15,  15, ...,  39,  39, 255], dtype=uint8),\n",
       " array([  1,   1,   1, ..., 237, 237, 255], dtype=uint8),\n",
       " array([  0,   0,   0, ..., 139, 139, 255], dtype=uint8),\n",
       " array([184, 184, 184, ...,   1,   1, 255], dtype=uint8),\n",
       " array([  0,   0,   0, ..., 130, 130, 255], dtype=uint8),\n",
       " array([ 53,  53,  53, ..., 161, 161, 255], dtype=uint8),\n",
       " array([ 33,  33,  33, ..., 155, 155, 255], dtype=uint8),\n",
       " array([ 14,  14,  14, ...,  55,  55, 255], dtype=uint8),\n",
       " array([ 47,  24,   4, ..., 162, 160, 255], dtype=uint8),\n",
       " array([ 89,  46,   6, ...,  48,  44, 255], dtype=uint8),\n",
       " array([254, 254, 254, ..., 103, 102, 255], dtype=uint8),\n",
       " array([211, 212, 212, ...,  69,  68, 255], dtype=uint8),\n",
       " array([240, 240, 240, ..., 116, 115, 255], dtype=uint8),\n",
       " array([210, 212, 212, ...,  58,  58, 255], dtype=uint8),\n",
       " array([221, 221, 221, ..., 217, 217, 255], dtype=uint8),\n",
       " array([  0,   0,   0, ...,  41,  41, 255], dtype=uint8),\n",
       " array([ 55,  55,  55, ...,   0,   0, 255], dtype=uint8),\n",
       " array([ 38,  38,  38, ...,   0,   0, 255], dtype=uint8),\n",
       " array([ 47,  47,  47, ...,   0,   0, 255], dtype=uint8),\n",
       " array([185, 183, 182, ...,  13,  30, 255], dtype=uint8),\n",
       " array([  0,   0,   0, ...,   0,   0, 255], dtype=uint8),\n",
       " array([  1,   1,   1, ..., 194, 194, 255], dtype=uint8),\n",
       " array([  1,   1,   1, ...,  73,  73, 255], dtype=uint8),\n",
       " array([177, 177, 177, ...,  46,  46, 255], dtype=uint8),\n",
       " array([  7,   7,   7, ...,   7,   7, 255], dtype=uint8),\n",
       " array([  0,   0,   0, ...,   0,   0, 255], dtype=uint8),\n",
       " array([  0,   0,   0, ...,  32,  32, 255], dtype=uint8),\n",
       " array([  8,   8,   8, ..., 117, 117, 255], dtype=uint8),\n",
       " array([  0,   0,   0, ...,   0,   0, 255], dtype=uint8),\n",
       " array([  0,   0,   0, ...,   0,   0, 255], dtype=uint8),\n",
       " array([  0,   0,   0, ..., 157, 157, 255], dtype=uint8),\n",
       " array([  0,   0,   0, ...,   0,   0, 255], dtype=uint8),\n",
       " array([ 87,  87,  87, ...,   1,   1, 255], dtype=uint8),\n",
       " array([ 12,  12,  12, ...,  25,  25, 255], dtype=uint8),\n",
       " array([118, 118, 118, ...,  17,  17, 255], dtype=uint8),\n",
       " array([ 19,  19,  19, ...,  17,  17, 255], dtype=uint8),\n",
       " array([179, 179, 179, ..., 122, 122, 255], dtype=uint8),\n",
       " array([  0,   0,   0, ...,  47,  47, 255], dtype=uint8),\n",
       " array([  0,   0,   0, ...,   0,   0, 255], dtype=uint8),\n",
       " array([  0,   0,   0, ...,   0,   0, 255], dtype=uint8),\n",
       " array([  0,   0,   0, ...,  86,  86, 255], dtype=uint8),\n",
       " array([  0,   0,   0, ...,   0,   0, 255], dtype=uint8),\n",
       " array([ 96,  96,  96, ...,  85,  85, 255], dtype=uint8),\n",
       " array([  0,   0,   0, ...,  11,  11, 255], dtype=uint8),\n",
       " array([  0,   0,   0, ...,   0,   0, 255], dtype=uint8),\n",
       " array([ 20,  20,  20, ...,  16,  16, 255], dtype=uint8),\n",
       " array([ 86,  86,  86, ...,   0,   0, 255], dtype=uint8),\n",
       " array([127, 127, 127, ..., 134, 134, 255], dtype=uint8),\n",
       " array([  0,   0,   0, ...,   9,   9, 255], dtype=uint8),\n",
       " array([190, 190, 190, ...,  63,  63, 255], dtype=uint8),\n",
       " array([  1,   1,   1, ...,  53,  54, 255], dtype=uint8),\n",
       " array([  1,   1,   1, ...,  38,   6, 255], dtype=uint8),\n",
       " array([ 17,  17,  17, ...,  76,  78, 255], dtype=uint8),\n",
       " array([ 22,  22,  23, ...,  73,  76, 255], dtype=uint8),\n",
       " array([  1,   1,   1, ...,   1,   1, 255], dtype=uint8),\n",
       " array([193, 193, 193, ...,  57,  57, 255], dtype=uint8),\n",
       " array([ 90,  90,  90, ..., 114, 114, 255], dtype=uint8),\n",
       " array([  1,   1,   1, ...,   1,   1, 255], dtype=uint8),\n",
       " array([  0,   0,   0, ...,   0,   0, 255], dtype=uint8),\n",
       " array([ 51,  82,  97, ..., 217, 217, 255], dtype=uint8),\n",
       " array([  9,   9,   9, ..., 162, 162, 255], dtype=uint8),\n",
       " array([151, 144, 125, ...,   0,   0, 255], dtype=uint8),\n",
       " array([  2,   1,   3, ...,   0,   0, 255], dtype=uint8),\n",
       " array([166, 166, 166, ..., 149, 149, 255], dtype=uint8),\n",
       " array([ 20,  20,  20, ..., 202, 202, 255], dtype=uint8),\n",
       " array([ 17,  17,  17, ..., 125, 125, 255], dtype=uint8),\n",
       " array([  7,   7,   7, ...,   4,   4, 255], dtype=uint8),\n",
       " array([133, 129, 128, ...,  33,  35, 255], dtype=uint8),\n",
       " array([ 26,  25,  29, ...,  37,  37, 255], dtype=uint8),\n",
       " array([ 11,  11,  11, ..., 103, 103, 255], dtype=uint8),\n",
       " array([ 71,  69,  68, ...,  65,  65, 255], dtype=uint8),\n",
       " array([252, 252, 252, ...,  97,  96, 255], dtype=uint8),\n",
       " array([  6,   6,   6, ...,   6,   6, 255], dtype=uint8),\n",
       " array([ 59,  56,  58, ...,  56,  58, 255], dtype=uint8),\n",
       " array([ 55,  52,  54, ...,  52,  54, 255], dtype=uint8),\n",
       " array([ 59,  56,  58, ...,  57,  60, 255], dtype=uint8),\n",
       " array([ 50,  31,  10, ..., 154, 154, 255], dtype=uint8),\n",
       " array([149, 149, 149, ...,  33,  33, 255], dtype=uint8),\n",
       " array([  0,   0,   0, ...,   0,   0, 255], dtype=uint8),\n",
       " array([  0,   0,   0, ..., 100, 100, 255], dtype=uint8),\n",
       " array([ 70,  70,  70, ...,  51,  51, 255], dtype=uint8),\n",
       " array([  1,   1,   1, ..., 156, 156, 255], dtype=uint8),\n",
       " array([  0,   0,   0, ...,   0,   0, 255], dtype=uint8),\n",
       " array([  3,   3,   1, ...,   0,   0, 255], dtype=uint8),\n",
       " array([ 20,  23,  27, ...,  50,  54, 255], dtype=uint8),\n",
       " array([  0,   0,   0, ...,   1,   1, 255], dtype=uint8),\n",
       " array([ 90,  90,  90, ...,   0,   0, 255], dtype=uint8),\n",
       " array([  0,   0,   0, ...,   0,   0, 255], dtype=uint8),\n",
       " array([  7,   7,   7, ...,   0,   0, 255], dtype=uint8),\n",
       " array([  0,   0,   0, ...,   0,   0, 255], dtype=uint8),\n",
       " array([  0,   0,   0, ...,   0,   0, 255], dtype=uint8),\n",
       " array([ 68,  68,  68, ...,   0,   0, 255], dtype=uint8),\n",
       " array([ 34,  34,  34, ...,  23,  23, 255], dtype=uint8),\n",
       " array([110, 110, 110, ...,   0,   0, 255], dtype=uint8),\n",
       " array([  3,   3,   3, ...,   1,   1, 255], dtype=uint8),\n",
       " array([ 18,  18,  18, ...,   0,   0, 255], dtype=uint8),\n",
       " array([ 50,  50,  50, ...,   0,   0, 255], dtype=uint8),\n",
       " array([ 49,  49,  49, ...,   0,   0, 255], dtype=uint8),\n",
       " array([ 87,  87,  87, ...,   0,   0, 255], dtype=uint8),\n",
       " array([  0,   0,   0, ...,   0,   0, 255], dtype=uint8),\n",
       " array([  0,   0,   0, ...,   0,   0, 255], dtype=uint8),\n",
       " array([  0,   0,   0, ...,  18,  18, 255], dtype=uint8),\n",
       " array([ 69,  69,  69, ...,  34,  34, 255], dtype=uint8),\n",
       " array([  0,   0,   0, ...,   0,   0, 255], dtype=uint8),\n",
       " array([  0,   0,   0, ...,   0,   0, 255], dtype=uint8),\n",
       " array([ 58,  58,  58, ...,   0,   0, 255], dtype=uint8),\n",
       " array([  0,   0,   0, ...,   0,   0, 255], dtype=uint8),\n",
       " array([  0,   0,   0, ...,   0,   0, 255], dtype=uint8),\n",
       " array([  0,   0,   0, ...,   0,   0, 255], dtype=uint8),\n",
       " array([ 40,  40,  40, ...,   0,   0, 255], dtype=uint8)]"
      ]
     },
     "execution_count": 10,
     "metadata": {},
     "output_type": "execute_result"
    }
   ],
   "source": [
    "data"
   ]
  },
  {
   "cell_type": "code",
   "execution_count": 11,
   "metadata": {},
   "outputs": [
    {
     "data": {
      "text/plain": [
       "166"
      ]
     },
     "execution_count": 11,
     "metadata": {},
     "output_type": "execute_result"
    }
   ],
   "source": [
    "len(data)"
   ]
  },
  {
   "cell_type": "code",
   "execution_count": 12,
   "metadata": {},
   "outputs": [
    {
     "data": {
      "text/plain": [
       "['covid',\n",
       " 'covid',\n",
       " 'covid',\n",
       " 'covid',\n",
       " 'covid',\n",
       " 'covid',\n",
       " 'covid',\n",
       " 'covid',\n",
       " 'covid',\n",
       " 'covid',\n",
       " 'covid',\n",
       " 'covid',\n",
       " 'covid',\n",
       " 'covid',\n",
       " 'covid',\n",
       " 'covid',\n",
       " 'covid',\n",
       " 'covid',\n",
       " 'covid',\n",
       " 'covid',\n",
       " 'covid',\n",
       " 'covid',\n",
       " 'covid',\n",
       " 'covid',\n",
       " 'covid',\n",
       " 'covid',\n",
       " 'covid',\n",
       " 'covid',\n",
       " 'covid',\n",
       " 'covid',\n",
       " 'covid',\n",
       " 'covid',\n",
       " 'covid',\n",
       " 'covid',\n",
       " 'covid',\n",
       " 'covid',\n",
       " 'covid',\n",
       " 'covid',\n",
       " 'covid',\n",
       " 'covid',\n",
       " 'covid',\n",
       " 'covid',\n",
       " 'covid',\n",
       " 'covid',\n",
       " 'covid',\n",
       " 'covid',\n",
       " 'covid',\n",
       " 'covid',\n",
       " 'covid',\n",
       " 'covid',\n",
       " 'covid',\n",
       " 'covid',\n",
       " 'covid',\n",
       " 'covid',\n",
       " 'covid',\n",
       " 'covid',\n",
       " 'covid',\n",
       " 'covid',\n",
       " 'covid',\n",
       " 'covid',\n",
       " 'covid',\n",
       " 'covid',\n",
       " 'covid',\n",
       " 'covid',\n",
       " 'covid',\n",
       " 'covid',\n",
       " 'covid',\n",
       " 'covid',\n",
       " 'covid',\n",
       " 'covid',\n",
       " 'covid',\n",
       " 'covid',\n",
       " 'covid',\n",
       " 'covid',\n",
       " 'covid',\n",
       " 'covid',\n",
       " 'covid',\n",
       " 'covid',\n",
       " 'covid',\n",
       " 'covid',\n",
       " 'covid',\n",
       " 'covid',\n",
       " 'covid',\n",
       " 'covid',\n",
       " 'covid',\n",
       " 'covid',\n",
       " 'covid',\n",
       " 'covid',\n",
       " 'covid',\n",
       " 'covid',\n",
       " 'covid',\n",
       " 'covid',\n",
       " 'covid',\n",
       " 'covid',\n",
       " 'covid',\n",
       " 'covid',\n",
       " 'covid',\n",
       " 'covid',\n",
       " 'covid',\n",
       " 'covid',\n",
       " 'covid',\n",
       " 'covid',\n",
       " 'covid',\n",
       " 'covid',\n",
       " 'covid',\n",
       " 'covid',\n",
       " 'covid',\n",
       " 'covid',\n",
       " 'covid',\n",
       " 'covid',\n",
       " 'covid',\n",
       " 'covid',\n",
       " 'covid',\n",
       " 'covid',\n",
       " 'covid',\n",
       " 'covid',\n",
       " 'covid',\n",
       " 'covid',\n",
       " 'covid',\n",
       " 'covid',\n",
       " 'covid',\n",
       " 'covid',\n",
       " 'covid',\n",
       " 'covid',\n",
       " 'covid',\n",
       " 'covid',\n",
       " 'covid',\n",
       " 'covid',\n",
       " 'covid',\n",
       " 'covid',\n",
       " 'covid',\n",
       " 'covid',\n",
       " 'covid',\n",
       " 'covid',\n",
       " 'covid',\n",
       " 'covid',\n",
       " 'covid',\n",
       " 'covid',\n",
       " 'covid',\n",
       " 'covid',\n",
       " 'covid',\n",
       " 'normal',\n",
       " 'normal',\n",
       " 'normal',\n",
       " 'normal',\n",
       " 'normal',\n",
       " 'normal',\n",
       " 'normal',\n",
       " 'normal',\n",
       " 'normal',\n",
       " 'normal',\n",
       " 'normal',\n",
       " 'normal',\n",
       " 'normal',\n",
       " 'normal',\n",
       " 'normal',\n",
       " 'normal',\n",
       " 'normal',\n",
       " 'normal',\n",
       " 'normal',\n",
       " 'normal',\n",
       " 'normal',\n",
       " 'normal',\n",
       " 'normal',\n",
       " 'normal',\n",
       " 'normal']"
      ]
     },
     "execution_count": 12,
     "metadata": {},
     "output_type": "execute_result"
    }
   ],
   "source": [
    "labels"
   ]
  },
  {
   "cell_type": "code",
   "execution_count": 13,
   "metadata": {},
   "outputs": [
    {
     "data": {
      "text/plain": [
       "array(['covid', 'covid', 'covid', 'covid', 'covid', 'covid', 'covid',\n",
       "       'covid', 'covid', 'covid', 'covid', 'covid', 'covid', 'covid',\n",
       "       'covid', 'covid', 'covid', 'covid', 'covid', 'covid', 'covid',\n",
       "       'covid', 'covid', 'covid', 'covid', 'covid', 'covid', 'covid',\n",
       "       'covid', 'covid', 'covid', 'covid', 'covid', 'covid', 'covid',\n",
       "       'covid', 'covid', 'covid', 'covid', 'covid', 'covid', 'covid',\n",
       "       'covid', 'covid', 'covid', 'covid', 'covid', 'covid', 'covid',\n",
       "       'covid', 'covid', 'covid', 'covid', 'covid', 'covid', 'covid',\n",
       "       'covid', 'covid', 'covid', 'covid', 'covid', 'covid', 'covid',\n",
       "       'covid', 'covid', 'covid', 'covid', 'covid', 'covid', 'covid',\n",
       "       'covid', 'covid', 'covid', 'covid', 'covid', 'covid', 'covid',\n",
       "       'covid', 'covid', 'covid', 'covid', 'covid', 'covid', 'covid',\n",
       "       'covid', 'covid', 'covid', 'covid', 'covid', 'covid', 'covid',\n",
       "       'covid', 'covid', 'covid', 'covid', 'covid', 'covid', 'covid',\n",
       "       'covid', 'covid', 'covid', 'covid', 'covid', 'covid', 'covid',\n",
       "       'covid', 'covid', 'covid', 'covid', 'covid', 'covid', 'covid',\n",
       "       'covid', 'covid', 'covid', 'covid', 'covid', 'covid', 'covid',\n",
       "       'covid', 'covid', 'covid', 'covid', 'covid', 'covid', 'covid',\n",
       "       'covid', 'covid', 'covid', 'covid', 'covid', 'covid', 'covid',\n",
       "       'covid', 'covid', 'covid', 'covid', 'covid', 'covid', 'covid',\n",
       "       'covid', 'normal', 'normal', 'normal', 'normal', 'normal',\n",
       "       'normal', 'normal', 'normal', 'normal', 'normal', 'normal',\n",
       "       'normal', 'normal', 'normal', 'normal', 'normal', 'normal',\n",
       "       'normal', 'normal', 'normal', 'normal', 'normal', 'normal',\n",
       "       'normal', 'normal'], dtype='<U6')"
      ]
     },
     "execution_count": 13,
     "metadata": {},
     "output_type": "execute_result"
    }
   ],
   "source": [
    "labels_train"
   ]
  },
  {
   "cell_type": "code",
   "execution_count": 14,
   "metadata": {},
   "outputs": [],
   "source": [
    "# perform one-hot encoding on the labels\n",
    "lb = LabelBinarizer()\n",
    "labels_train_y = lb.fit_transform(labels_train)\n",
    "labels_train_cat = to_categorical(labels_train_y)\n",
    "\n",
    "# partition the data into training and testing splits using 80% of\n",
    "# the data for training and the remaining 20% for testing\n",
    "\n",
    "(X_train, X_test, y_train, y_test) = train_test_split(data, labels, test_size=0.20, stratify=labels, random_state=42)"
   ]
  },
  {
   "cell_type": "code",
   "execution_count": 15,
   "metadata": {},
   "outputs": [
    {
     "data": {
      "text/plain": [
       "[array([  9,   4,   5, ..., 248, 244, 255], dtype=uint8),\n",
       " array([ 58,  58,  58, ...,   0,   0, 255], dtype=uint8),\n",
       " array([190, 190, 190, ...,  63,  63, 255], dtype=uint8),\n",
       " array([ 50,  50,  50, ...,   0,   0, 255], dtype=uint8),\n",
       " array([  0,   0,   0, ...,   0,   0, 255], dtype=uint8),\n",
       " array([211, 212, 212, ...,  69,  68, 255], dtype=uint8),\n",
       " array([253, 253, 253, ..., 254, 254, 255], dtype=uint8),\n",
       " array([  2,   2,   2, ..., 231, 231, 255], dtype=uint8),\n",
       " array([ 89,  46,   6, ...,  48,  44, 255], dtype=uint8),\n",
       " array([193, 193, 193, ...,  57,  57, 255], dtype=uint8),\n",
       " array([221, 221, 221, ..., 217, 217, 255], dtype=uint8),\n",
       " array([ 74,  74,  74, ..., 181, 181, 255], dtype=uint8),\n",
       " array([  0,   0,   0, ...,   0,   0, 255], dtype=uint8),\n",
       " array([  0,   0,   0, ...,   0,   0, 255], dtype=uint8),\n",
       " array([ 12,  12,  12, ...,   7,   7, 255], dtype=uint8),\n",
       " array([ 55,  55,  55, ...,   0,   0, 255], dtype=uint8),\n",
       " array([ 38,  38,  38, ...,   0,   0, 255], dtype=uint8),\n",
       " array([ 50,  31,  10, ..., 154, 154, 255], dtype=uint8),\n",
       " array([  4,   0,   0, ..., 250, 250, 255], dtype=uint8),\n",
       " array([255, 255, 255, ...,  17,  17, 255], dtype=uint8),\n",
       " array([  0,   0,   0, ..., 175, 175, 255], dtype=uint8),\n",
       " array([ 61,  61,  61, ..., 131, 131, 255], dtype=uint8),\n",
       " array([  1,   1,   1, ...,  73,  73, 255], dtype=uint8),\n",
       " array([133, 133, 133, ..., 254, 254, 255], dtype=uint8),\n",
       " array([ 53,  53,  53, ..., 161, 161, 255], dtype=uint8),\n",
       " array([ 63,  63,  63, ...,  81,  81, 255], dtype=uint8),\n",
       " array([  0,   0,   0, ...,   0,   0, 255], dtype=uint8),\n",
       " array([  4,   4,   4, ..., 124, 124, 255], dtype=uint8),\n",
       " array([  0,   0,   0, ..., 163, 164, 255], dtype=uint8),\n",
       " array([  0,   0,   0, ...,   0,   0, 255], dtype=uint8),\n",
       " array([166, 166, 166, ..., 149, 149, 255], dtype=uint8),\n",
       " array([ 87,  87,  87, ...,   1,   1, 255], dtype=uint8),\n",
       " array([254, 254, 254, ..., 103, 102, 255], dtype=uint8),\n",
       " array([  0,   0,   0, ...,   0,   0, 255], dtype=uint8),\n",
       " array([  3,   3,   3, ...,   1,   1, 255], dtype=uint8),\n",
       " array([ 47,  47,  47, ...,  42,  16, 255], dtype=uint8),\n",
       " array([ 70,  70,  70, ...,  51,  51, 255], dtype=uint8),\n",
       " array([  0,   0,   0, ..., 157, 157, 255], dtype=uint8),\n",
       " array([  0,   0,   0, ...,  32,  32, 255], dtype=uint8),\n",
       " array([ 12,  12,  12, ...,  25,  25, 255], dtype=uint8),\n",
       " array([252, 252, 252, ...,  97,  96, 255], dtype=uint8),\n",
       " array([ 49,  49,  49, ...,   0,   0, 255], dtype=uint8),\n",
       " array([ 33,  33,  33, ..., 155, 155, 255], dtype=uint8),\n",
       " array([ 19,  19,  19, ..., 145, 145, 255], dtype=uint8),\n",
       " array([  0,   0,   0, ...,  18,  18, 255], dtype=uint8),\n",
       " array([ 47,  24,   4, ..., 162, 160, 255], dtype=uint8),\n",
       " array([ 20,  20,  20, ..., 202, 202, 255], dtype=uint8),\n",
       " array([  2,   1,   3, ...,   0,   0, 255], dtype=uint8),\n",
       " array([  0,   0,   0, ...,  47,  47, 255], dtype=uint8),\n",
       " array([104, 104, 104, ...,  46,  46, 255], dtype=uint8),\n",
       " array([104, 104, 104, ..., 199, 199, 255], dtype=uint8),\n",
       " array([ 95,  95,  95, ..., 120, 120, 255], dtype=uint8),\n",
       " array([  2,   2,   2, ...,  91,  87, 255], dtype=uint8),\n",
       " array([  3,   3,   1, ...,   0,   0, 255], dtype=uint8),\n",
       " array([  0,   0,   0, ...,   0,   0, 255], dtype=uint8),\n",
       " array([ 62,  62,  62, ..., 125, 125, 255], dtype=uint8),\n",
       " array([  0,   0,   0, ...,   0,   0, 255], dtype=uint8),\n",
       " array([  7,   7,   7, ...,   0,   0, 255], dtype=uint8),\n",
       " array([  5,   5,   5, ...,  35,  35, 255], dtype=uint8),\n",
       " array([  0,   0,   0, ...,   0,   0, 255], dtype=uint8),\n",
       " array([  0,   0,   0, ...,   0,   0, 255], dtype=uint8),\n",
       " array([ 71,  69,  68, ...,  65,  65, 255], dtype=uint8),\n",
       " array([  8,   8,   8, ..., 117, 117, 255], dtype=uint8),\n",
       " array([  4,   0,   0, ...,   1,   1, 255], dtype=uint8),\n",
       " array([  0,   0,   0, ...,  24,  24, 255], dtype=uint8),\n",
       " array([  0,   0,   0, ...,   0,   0, 255], dtype=uint8),\n",
       " array([  7,   7,   7, ...,   7,   7, 255], dtype=uint8),\n",
       " array([210, 212, 212, ...,  58,  58, 255], dtype=uint8),\n",
       " array([110, 110, 110, ...,   0,   0, 255], dtype=uint8),\n",
       " array([  0,   0,   0, ...,   0,   0, 255], dtype=uint8),\n",
       " array([ 51,  82,  97, ..., 217, 217, 255], dtype=uint8),\n",
       " array([151, 144, 125, ...,   0,   0, 255], dtype=uint8),\n",
       " array([226, 226, 226, ..., 226, 226, 255], dtype=uint8),\n",
       " array([ 79,  79,  79, ...,   3,   3, 255], dtype=uint8),\n",
       " array([ 12,   9,   5, ..., 167, 167, 255], dtype=uint8),\n",
       " array([  0,   0,   0, ..., 206, 206, 255], dtype=uint8),\n",
       " array([ 77,  77,  77, ..., 133, 133, 255], dtype=uint8),\n",
       " array([  0,   0,   0, ...,  86,  86, 255], dtype=uint8),\n",
       " array([ 26,  25,  29, ...,  37,  37, 255], dtype=uint8),\n",
       " array([ 90,  90,  90, ...,   0,   0, 255], dtype=uint8),\n",
       " array([  1,   1,   1, ..., 194, 194, 255], dtype=uint8),\n",
       " array([ 55,  52,  54, ...,  52,  54, 255], dtype=uint8),\n",
       " array([ 17,  17,  17, ...,  76,  78, 255], dtype=uint8),\n",
       " array([  0,   0,   0, ...,   9,   9, 255], dtype=uint8),\n",
       " array([  0,   0,   0, ..., 153, 153, 255], dtype=uint8),\n",
       " array([  0,   0,   0, ...,   0,   0, 255], dtype=uint8),\n",
       " array([  0,   0,   0, ...,   0,   0, 255], dtype=uint8),\n",
       " array([ 59,  56,  58, ...,  56,  58, 255], dtype=uint8),\n",
       " array([  1,   1,   1, ...,   1,   1, 255], dtype=uint8),\n",
       " array([ 91,  91,  91, ...,  22,  22, 255], dtype=uint8),\n",
       " array([ 17,  17,  17, ...,  52,  52, 255], dtype=uint8),\n",
       " array([  0,   0,   0, ...,   0,   0, 255], dtype=uint8),\n",
       " array([  0,   0,   0, ...,  44,  44, 255], dtype=uint8),\n",
       " array([ 22,  22,  23, ...,  73,  76, 255], dtype=uint8),\n",
       " array([ 34,  34,  34, ...,  23,  23, 255], dtype=uint8),\n",
       " array([ 29,  24,  25, ..., 210, 210, 255], dtype=uint8),\n",
       " array([ 90,  90,  90, ..., 114, 114, 255], dtype=uint8),\n",
       " array([  0,   0,   0, ..., 139, 139, 255], dtype=uint8),\n",
       " array([  0,   0,   0, ...,   0,   0, 255], dtype=uint8),\n",
       " array([ 69,  69,  69, ...,  34,  34, 255], dtype=uint8),\n",
       " array([  0,   0,   0, ...,   0,   0, 255], dtype=uint8),\n",
       " array([  0,   0,   0, ...,   0,   0, 255], dtype=uint8),\n",
       " array([ 11,  11,  11, ..., 103, 103, 255], dtype=uint8),\n",
       " array([  0,   0,   0, ...,   0,   0, 255], dtype=uint8),\n",
       " array([ 19,  19,  19, ...,  17,  17, 255], dtype=uint8),\n",
       " array([ 96,  96,  96, ...,  85,  85, 255], dtype=uint8),\n",
       " array([149, 149, 149, ...,  33,  33, 255], dtype=uint8),\n",
       " array([  0,   0,   0, ..., 130, 130, 255], dtype=uint8),\n",
       " array([240, 240, 240, ..., 116, 115, 255], dtype=uint8),\n",
       " array([ 50,  41,  32, ...,  44,  34, 255], dtype=uint8),\n",
       " array([  0,   0,   0, ...,   0,   0, 255], dtype=uint8),\n",
       " array([177, 177, 177, ...,  46,  46, 255], dtype=uint8),\n",
       " array([  1,   1,   1, ...,   1,   1, 255], dtype=uint8),\n",
       " array([  6,   6,   6, ...,   5,   5, 255], dtype=uint8),\n",
       " array([108, 108, 108, ...,  23,  23, 255], dtype=uint8),\n",
       " array([ 40,  40,  40, ...,   0,   0, 255], dtype=uint8),\n",
       " array([  1,   1,   1, ...,   1,   1, 255], dtype=uint8),\n",
       " array([  0,   0,   0, ..., 131, 131, 255], dtype=uint8),\n",
       " array([  1,   1,   1, ..., 142, 144, 255], dtype=uint8),\n",
       " array([118, 118, 118, ...,  17,  17, 255], dtype=uint8),\n",
       " array([ 18,  18,  18, ...,   0,   0, 255], dtype=uint8),\n",
       " array([  0,   0,   0, ...,   0,   0, 255], dtype=uint8),\n",
       " array([  1,   1,   1, ..., 156, 156, 255], dtype=uint8),\n",
       " array([  0,   0,   0, ...,   0,   0, 255], dtype=uint8),\n",
       " array([ 20,  20,  20, ...,  16,  16, 255], dtype=uint8),\n",
       " array([  0,   0,   0, ...,   0,   0, 255], dtype=uint8),\n",
       " array([152, 152, 152, ...,   0,   0, 255], dtype=uint8),\n",
       " array([ 15,  15,  15, ...,  39,  39, 255], dtype=uint8),\n",
       " array([  7,   7,   7, ...,   4,   4, 255], dtype=uint8),\n",
       " array([ 12,  12,  12, ...,  39,  39, 255], dtype=uint8),\n",
       " array([  6,   6,   6, ...,   6,   6, 255], dtype=uint8),\n",
       " array([  6,   6,   6, ...,  14,  14, 255], dtype=uint8)]"
      ]
     },
     "execution_count": 15,
     "metadata": {},
     "output_type": "execute_result"
    }
   ],
   "source": [
    "X_train"
   ]
  },
  {
   "cell_type": "code",
   "execution_count": 16,
   "metadata": {},
   "outputs": [
    {
     "data": {
      "text/plain": [
       "['covid',\n",
       " 'normal',\n",
       " 'covid',\n",
       " 'normal',\n",
       " 'covid',\n",
       " 'covid',\n",
       " 'covid',\n",
       " 'covid',\n",
       " 'covid',\n",
       " 'covid',\n",
       " 'covid',\n",
       " 'covid',\n",
       " 'covid',\n",
       " 'covid',\n",
       " 'covid',\n",
       " 'covid',\n",
       " 'covid',\n",
       " 'covid',\n",
       " 'covid',\n",
       " 'covid',\n",
       " 'covid',\n",
       " 'covid',\n",
       " 'covid',\n",
       " 'covid',\n",
       " 'covid',\n",
       " 'covid',\n",
       " 'normal',\n",
       " 'covid',\n",
       " 'covid',\n",
       " 'normal',\n",
       " 'covid',\n",
       " 'covid',\n",
       " 'covid',\n",
       " 'normal',\n",
       " 'normal',\n",
       " 'covid',\n",
       " 'covid',\n",
       " 'covid',\n",
       " 'covid',\n",
       " 'covid',\n",
       " 'covid',\n",
       " 'normal',\n",
       " 'covid',\n",
       " 'covid',\n",
       " 'normal',\n",
       " 'covid',\n",
       " 'covid',\n",
       " 'covid',\n",
       " 'covid',\n",
       " 'covid',\n",
       " 'covid',\n",
       " 'covid',\n",
       " 'covid',\n",
       " 'covid',\n",
       " 'covid',\n",
       " 'covid',\n",
       " 'covid',\n",
       " 'normal',\n",
       " 'covid',\n",
       " 'normal',\n",
       " 'covid',\n",
       " 'covid',\n",
       " 'covid',\n",
       " 'covid',\n",
       " 'covid',\n",
       " 'covid',\n",
       " 'covid',\n",
       " 'covid',\n",
       " 'normal',\n",
       " 'covid',\n",
       " 'covid',\n",
       " 'covid',\n",
       " 'covid',\n",
       " 'covid',\n",
       " 'covid',\n",
       " 'covid',\n",
       " 'covid',\n",
       " 'covid',\n",
       " 'covid',\n",
       " 'normal',\n",
       " 'covid',\n",
       " 'covid',\n",
       " 'covid',\n",
       " 'covid',\n",
       " 'covid',\n",
       " 'normal',\n",
       " 'covid',\n",
       " 'covid',\n",
       " 'covid',\n",
       " 'covid',\n",
       " 'covid',\n",
       " 'covid',\n",
       " 'covid',\n",
       " 'covid',\n",
       " 'normal',\n",
       " 'covid',\n",
       " 'covid',\n",
       " 'covid',\n",
       " 'covid',\n",
       " 'normal',\n",
       " 'covid',\n",
       " 'covid',\n",
       " 'covid',\n",
       " 'covid',\n",
       " 'covid',\n",
       " 'covid',\n",
       " 'covid',\n",
       " 'covid',\n",
       " 'covid',\n",
       " 'covid',\n",
       " 'normal',\n",
       " 'covid',\n",
       " 'covid',\n",
       " 'covid',\n",
       " 'covid',\n",
       " 'normal',\n",
       " 'covid',\n",
       " 'covid',\n",
       " 'covid',\n",
       " 'covid',\n",
       " 'normal',\n",
       " 'normal',\n",
       " 'covid',\n",
       " 'normal',\n",
       " 'covid',\n",
       " 'covid',\n",
       " 'covid',\n",
       " 'covid',\n",
       " 'covid',\n",
       " 'covid',\n",
       " 'covid',\n",
       " 'covid']"
      ]
     },
     "execution_count": 16,
     "metadata": {},
     "output_type": "execute_result"
    }
   ],
   "source": [
    "y_train"
   ]
  },
  {
   "cell_type": "code",
   "execution_count": 17,
   "metadata": {},
   "outputs": [],
   "source": [
    "from sklearn.naive_bayes import GaussianNB\n",
    "from sklearn.linear_model import LogisticRegression\n",
    "from sklearn.ensemble import RandomForestClassifier\n",
    "from sklearn.svm import LinearSVC\n",
    "from sklearn.calibration import calibration_curve\n",
    "\n",
    "\n",
    "\n",
    "# Create classifiers\n",
    "lr = LogisticRegression(max_iter=10000)\n",
    "gnb = GaussianNB()\n",
    "svc = LinearSVC(C=1.0, max_iter=10000)\n",
    "rfc = RandomForestClassifier()"
   ]
  },
  {
   "cell_type": "code",
   "execution_count": 18,
   "metadata": {},
   "outputs": [
    {
     "name": "stderr",
     "output_type": "stream",
     "text": [
      "C:\\Users\\HP\\Anaconda3\\lib\\site-packages\\sklearn\\linear_model\\logistic.py:433: FutureWarning: Default solver will be changed to 'lbfgs' in 0.22. Specify a solver to silence this warning.\n",
      "  FutureWarning)\n"
     ]
    }
   ],
   "source": [
    "LR_Model = lr.fit(X_train, y_train)"
   ]
  },
  {
   "cell_type": "code",
   "execution_count": 19,
   "metadata": {},
   "outputs": [],
   "source": [
    "GNB_Model = gnb.fit(X_train, y_train)"
   ]
  },
  {
   "cell_type": "code",
   "execution_count": 20,
   "metadata": {},
   "outputs": [],
   "source": [
    "SVC_Model = svc.fit(X_train, y_train)"
   ]
  },
  {
   "cell_type": "code",
   "execution_count": 21,
   "metadata": {},
   "outputs": [
    {
     "name": "stderr",
     "output_type": "stream",
     "text": [
      "C:\\Users\\HP\\Anaconda3\\lib\\site-packages\\sklearn\\ensemble\\forest.py:246: FutureWarning: The default value of n_estimators will change from 10 in version 0.20 to 100 in 0.22.\n",
      "  \"10 in version 0.20 to 100 in 0.22.\", FutureWarning)\n"
     ]
    }
   ],
   "source": [
    "RFC_Model = rfc.fit(X_train, y_train)"
   ]
  },
  {
   "cell_type": "code",
   "execution_count": 22,
   "metadata": {},
   "outputs": [],
   "source": [
    "import pickle\n",
    "\n",
    "with open('LR_model.pkl', 'wb') as f1:\n",
    "    pickle.dump(LR_Model,f1)\n",
    "    f1.close()\n",
    "\n",
    "with open('GNB_model.pkl', 'wb') as f2:\n",
    "    pickle.dump(GNB_Model,f2)\n",
    "    f2.close()\n",
    "\n",
    "with open('SVM_model.pkl', 'wb') as f3:\n",
    "    pickle.dump(SVC_Model,f3)\n",
    "    f3.close()\n",
    "\n",
    "with open('RF_model.pkl', 'wb') as f4:\n",
    "    pickle.dump(RFC_Model,f4)\n",
    "    f4.close()\n"
   ]
  },
  {
   "cell_type": "code",
   "execution_count": 23,
   "metadata": {},
   "outputs": [
    {
     "data": {
      "text/html": [
       "<a href='LR_model.pkl' target='_blank'>LR_model.pkl</a><br>"
      ],
      "text/plain": [
       "C:\\Users\\HP\\Desktop\\covid 19\\LR_model.pkl"
      ]
     },
     "execution_count": 23,
     "metadata": {},
     "output_type": "execute_result"
    }
   ],
   "source": [
    "from IPython.display import FileLink\n",
    "\n",
    "FileLink(r'LR_model.pkl')"
   ]
  },
  {
   "cell_type": "code",
   "execution_count": 24,
   "metadata": {},
   "outputs": [
    {
     "data": {
      "text/html": [
       "<a href='GNB_model.pkl' target='_blank'>GNB_model.pkl</a><br>"
      ],
      "text/plain": [
       "C:\\Users\\HP\\Desktop\\covid 19\\GNB_model.pkl"
      ]
     },
     "execution_count": 24,
     "metadata": {},
     "output_type": "execute_result"
    }
   ],
   "source": [
    "FileLink(r'GNB_model.pkl')"
   ]
  },
  {
   "cell_type": "code",
   "execution_count": 25,
   "metadata": {},
   "outputs": [
    {
     "data": {
      "text/html": [
       "<a href='SVM_model.pkl' target='_blank'>SVM_model.pkl</a><br>"
      ],
      "text/plain": [
       "C:\\Users\\HP\\Desktop\\covid 19\\SVM_model.pkl"
      ]
     },
     "execution_count": 25,
     "metadata": {},
     "output_type": "execute_result"
    }
   ],
   "source": [
    "FileLink(r'SVM_model.pkl')"
   ]
  },
  {
   "cell_type": "code",
   "execution_count": 26,
   "metadata": {},
   "outputs": [
    {
     "data": {
      "text/html": [
       "<a href='RF_model.pkl' target='_blank'>RF_model.pkl</a><br>"
      ],
      "text/plain": [
       "C:\\Users\\HP\\Desktop\\covid 19\\RF_model.pkl"
      ]
     },
     "execution_count": 26,
     "metadata": {},
     "output_type": "execute_result"
    }
   ],
   "source": [
    "FileLink(r'RF_model.pkl')"
   ]
  },
  {
   "cell_type": "code",
   "execution_count": 27,
   "metadata": {},
   "outputs": [
    {
     "data": {
      "text/plain": [
       "1.0"
      ]
     },
     "execution_count": 27,
     "metadata": {},
     "output_type": "execute_result"
    }
   ],
   "source": [
    "from sklearn.metrics import accuracy_score\n",
    "\n",
    "\n",
    "LR_y_pred = LR_Model.predict(X_test)\n",
    "GNB_y_pred = GNB_Model.predict(X_test)\n",
    "SVC_y_pred = SVC_Model.predict(X_test)\n",
    "RFC_y_pred = RFC_Model.predict(X_test)\n",
    "LR_acc_sc = accuracy_score(y_test, LR_y_pred)\n",
    "LR_acc_sc\n",
    "\n",
    "\n"
   ]
  },
  {
   "cell_type": "code",
   "execution_count": 28,
   "metadata": {},
   "outputs": [
    {
     "data": {
      "text/plain": [
       "1.0"
      ]
     },
     "execution_count": 28,
     "metadata": {},
     "output_type": "execute_result"
    }
   ],
   "source": [
    "GNB_acc_sc = accuracy_score(y_test, GNB_y_pred)\n",
    "GNB_acc_sc"
   ]
  },
  {
   "cell_type": "code",
   "execution_count": 29,
   "metadata": {},
   "outputs": [
    {
     "data": {
      "text/plain": [
       "1.0"
      ]
     },
     "execution_count": 29,
     "metadata": {},
     "output_type": "execute_result"
    }
   ],
   "source": [
    "SVC_acc_sc = accuracy_score(y_test, SVC_y_pred)\n",
    "SVC_acc_sc"
   ]
  },
  {
   "cell_type": "code",
   "execution_count": 30,
   "metadata": {},
   "outputs": [
    {
     "data": {
      "text/plain": [
       "1.0"
      ]
     },
     "execution_count": 30,
     "metadata": {},
     "output_type": "execute_result"
    }
   ],
   "source": [
    "RFC_acc_sc = accuracy_score(y_test, RFC_y_pred)\n",
    "RFC_acc_sc"
   ]
  },
  {
   "cell_type": "code",
   "execution_count": 31,
   "metadata": {},
   "outputs": [
    {
     "name": "stdout",
     "output_type": "stream",
     "text": [
      "LogisticRegression score: 1.000000\n",
      "Naive Bayes score: 1.000000\n",
      "SVM score: 1.000000\n",
      "Random Forest score: 1.000000\n"
     ]
    }
   ],
   "source": [
    "print('LogisticRegression score: %f' % LR_Model.score(X_test, y_test))\n",
    "print('Naive Bayes score: %f' % GNB_Model.score(X_test, y_test))\n",
    "print('SVM score: %f' % SVC_Model.score(X_test, y_test))\n",
    "print('Random Forest score: %f' % RFC_Model.score(X_test, y_test))"
   ]
  },
  {
   "cell_type": "code",
   "execution_count": 32,
   "metadata": {},
   "outputs": [],
   "source": [
    "import itertools"
   ]
  },
  {
   "cell_type": "code",
   "execution_count": 33,
   "metadata": {},
   "outputs": [],
   "source": [
    "def plot_confusion_matrix(cm, classes, normalize=False,title='Confusion matrix', cmap=plt.cm.Blues):\n",
    "    \"\"\"\n",
    "    This function prints and plots the confusion matrix.\n",
    "    Normalization can be applied by setting `normalize=True`.\n",
    "    \"\"\"\n",
    "    \n",
    "    plt.figure(figsize=(8,8), dpi=100)\n",
    "    plt.imshow(cm, interpolation='nearest', cmap=cmap)\n",
    "    plt.title(title)\n",
    "    plt.colorbar()\n",
    "    tick_marks = np.arange(len(classes))\n",
    "    plt.xticks(tick_marks, classes, rotation=45)\n",
    "    plt.yticks(tick_marks, classes)\n",
    "\n",
    "    if normalize:\n",
    "        cm = cm.astype('float') / cm.sum(axis=1)[:, np.newaxis]\n",
    "\n",
    "    thresh = cm.max() / 2.\n",
    "    for i, j in itertools.product(range(cm.shape[0]), range(cm.shape[1])):\n",
    "        plt.text(j, i, cm[i, j],\n",
    "                 horizontalalignment=\"center\",\n",
    "                 color=\"white\" if cm[i, j] > thresh else \"black\")\n",
    "\n",
    "    plt.tight_layout()\n",
    "    plt.ylabel('True label')\n",
    "    plt.xlabel('Predicted label')\n",
    "    \n",
    "    savefilename = title+'.png'\n",
    "        \n",
    "    plt.savefig(savefilename)"
   ]
  },
  {
   "cell_type": "code",
   "execution_count": 34,
   "metadata": {},
   "outputs": [],
   "source": [
    "cm_plot_labels = ['covid -ve','covid +ve']"
   ]
  },
  {
   "cell_type": "code",
   "execution_count": 35,
   "metadata": {},
   "outputs": [
    {
     "data": {
      "image/png": "[encoded data removed]",
      "text/plain": [
       "<Figure size 800x800 with 2 Axes>"
      ]
     },
     "metadata": {
      "needs_background": "light"
     },
     "output_type": "display_data"
    }
   ],
   "source": [
    "cm_lr = confusion_matrix(y_test, LR_y_pred)\n",
    "plot_confusion_matrix(cm=cm_lr, classes=cm_plot_labels, title='Logistic Regression Confusion Matrix')"
   ]
  },
  {
   "cell_type": "code",
   "execution_count": 36,
   "metadata": {},
   "outputs": [
    {
     "data": {
      "image/png": "[encoded data removed]",
      "text/plain": [
       "<Figure size 800x800 with 2 Axes>"
      ]
     },
     "metadata": {
      "needs_background": "light"
     },
     "output_type": "display_data"
    }
   ],
   "source": [
    "cm_nb = confusion_matrix(y_test, GNB_y_pred)\n",
    "plot_confusion_matrix(cm=cm_lr, classes=cm_plot_labels, title='Gaussian Naive Bayes Confusion Matrix')"
   ]
  },
  {
   "cell_type": "code",
   "execution_count": 37,
   "metadata": {},
   "outputs": [
    {
     "data": {
      "image/png": "[encoded data removed]",
      "text/plain": [
       "<Figure size 800x800 with 2 Axes>"
      ]
     },
     "metadata": {
      "needs_background": "light"
     },
     "output_type": "display_data"
    }
   ],
   "source": [
    "cm_svc = confusion_matrix(y_test, SVC_y_pred)\n",
    "plot_confusion_matrix(cm=cm_nb, classes=cm_plot_labels, title='Support Vector Machine Regression Confusion Matrix')"
   ]
  },
  {
   "cell_type": "code",
   "execution_count": 38,
   "metadata": {},
   "outputs": [
    {
     "data": {
      "image/png": "[encoded data removed]",
      "text/plain": [
       "<Figure size 800x800 with 2 Axes>"
      ]
     },
     "metadata": {
      "needs_background": "light"
     },
     "output_type": "display_data"
    }
   ],
   "source": [
    "cm_rf = confusion_matrix(y_test, RFC_y_pred)\n",
    "plot_confusion_matrix(cm=cm_rf, classes=cm_plot_labels, title='Random Forest Confusion Matrix')"
   ]
  },
  {
   "cell_type": "code",
   "execution_count": 39,
   "metadata": {},
   "outputs": [
    {
     "name": "stderr",
     "output_type": "stream",
     "text": [
      "C:\\Users\\HP\\Anaconda3\\lib\\site-packages\\sklearn\\linear_model\\logistic.py:433: FutureWarning: Default solver will be changed to 'lbfgs' in 0.22. Specify a solver to silence this warning.\n",
      "  FutureWarning)\n"
     ]
    },
    {
     "data": {
      "image/png": "[encoded data removed]",
      "text/plain": [
       "<Figure size 720x720 with 2 Axes>"
      ]
     },
     "metadata": {
      "needs_background": "light"
     },
     "output_type": "display_data"
    }
   ],
   "source": [
    "# Plot calibration plots\n",
    "\n",
    "plt.figure(figsize=(10, 10))\n",
    "ax1 = plt.subplot2grid((3, 1), (0, 0), rowspan=2)\n",
    "ax2 = plt.subplot2grid((3, 1), (2, 0))\n",
    "\n",
    "ax1.plot([0, 1], [0, 1], \"k:\", label=\"Perfectly calibrated\")\n",
    "for clf, name in [(lr, 'Logistic'),\n",
    "                  (gnb, 'Naive Bayes'),\n",
    "                  (svc, 'Support Vector Classification'),\n",
    "                  (rfc, 'Random Forest')]:\n",
    "    clf.fit(X_train, y_train)\n",
    "    if hasattr(clf, \"predict_proba\"):\n",
    "        prob_pos = clf.predict_proba(X_test)[:, 1]\n",
    "    else:  # use decision function\n",
    "        prob_pos = clf.decision_function(X_test)\n",
    "        prob_pos = \\\n",
    "            (prob_pos - prob_pos.min()) / (prob_pos.max() - prob_pos.min())\n",
    "    fraction_of_positives, mean_predicted_value = \\\n",
    "        calibration_curve(y_test, prob_pos, n_bins=10)\n",
    "\n",
    "    ax1.plot(mean_predicted_value, fraction_of_positives, \"s-\",\n",
    "             label=\"%s\" % (name, ))\n",
    "\n",
    "    ax2.hist(prob_pos, range=(0, 1), bins=10, label=name,\n",
    "             histtype=\"step\", lw=2)\n",
    "\n",
    "ax1.set_ylabel(\"Fraction of positives\")\n",
    "ax1.set_ylim([-0.05, 1.05])\n",
    "ax1.legend(loc=\"lower right\")\n",
    "ax1.set_title('Calibration plots  (reliability curve)')\n",
    "\n",
    "ax2.set_xlabel(\"Mean predicted value\")\n",
    "ax2.set_ylabel(\"Count\")\n",
    "ax2.legend(loc=\"upper center\", ncol=2)\n",
    "\n",
    "plt.tight_layout()\n",
    "plt.show()"
   ]
  },
  {
   "cell_type": "code",
   "execution_count": 40,
   "metadata": {},
   "outputs": [
    {
     "name": "stdout",
     "output_type": "stream",
     "text": [
      "['covid']\n",
      "['covid']\n",
      "['covid']\n",
      "['covid']\n"
     ]
    }
   ],
   "source": [
    "test_image = cv2.imread(r'C:\\Users\\HP\\Desktop\\covid 19\\test\\01E392EE-69F9-4E33-BFCE-E5C968654078.jpeg')\n",
    "test_image = cv2.cvtColor(test_image, cv2.IMREAD_GRAYSCALE)\n",
    "test_image = cv2.resize(test_image, (224, 224))\n",
    "test_img = test_image.flatten().reshape(1, -1)\n",
    "\n",
    "\n",
    "LR_pred = LR_Model.predict(test_img)\n",
    "print(LR_pred)\n",
    "\n",
    "GNB_pred = GNB_Model.predict(test_img)\n",
    "print(GNB_pred)\n",
    "\n",
    "SVC_pred = SVC_Model.predict(test_img)\n",
    "print(SVC_pred)\n",
    "\n",
    "RFC_pred = RFC_Model.predict(test_img)\n",
    "print(RFC_pred)"
   ]
  },
  {
   "cell_type": "code",
   "execution_count": 41,
   "metadata": {},
   "outputs": [
    {
     "name": "stdout",
     "output_type": "stream",
     "text": [
      "['normal']\n",
      "['normal']\n",
      "['normal']\n",
      "['normal']\n"
     ]
    }
   ],
   "source": [
    "test_image = cv2.imread(r'C:\\Users\\HP\\Desktop\\covid 19\\dataset\\normal\\IM-0262-0001.jpeg')\n",
    "test_image = cv2.cvtColor(test_image, cv2.IMREAD_GRAYSCALE)\n",
    "test_image = cv2.resize(test_image, (224, 224))\n",
    "test_img = test_image.flatten().reshape(1, -1)\n",
    "\n",
    "\n",
    "LR_pred = LR_Model.predict(test_img)\n",
    "print(LR_pred)\n",
    "\n",
    "GNB_pred = GNB_Model.predict(test_img)\n",
    "print(GNB_pred)\n",
    "\n",
    "SVC_pred = SVC_Model.predict(test_img)\n",
    "print(SVC_pred)\n",
    "\n",
    "RFC_pred = RFC_Model.predict(test_img)\n",
    "print(RFC_pred)"
   ]
  },
  {
   "cell_type": "code",
   "execution_count": null,
   "metadata": {},
   "outputs": [],
   "source": []
  },
  {
   "cell_type": "code",
   "execution_count": null,
   "metadata": {},
   "outputs": [],
   "source": []
  },
  {
   "cell_type": "code",
   "execution_count": null,
   "metadata": {},
   "outputs": [],
   "source": []
  },
  {
   "cell_type": "code",
   "execution_count": null,
   "metadata": {},
   "outputs": [],
   "source": []
  },
  {
   "cell_type": "code",
   "execution_count": null,
   "metadata": {},
   "outputs": [],
   "source": []
  },
  {
   "cell_type": "code",
   "execution_count": null,
   "metadata": {},
   "outputs": [],
   "source": []
  },
  {
   "cell_type": "code",
   "execution_count": null,
   "metadata": {},
   "outputs": [],
   "source": []
  }
 ],
 "metadata": {
  "kernelspec": {
   "display_name": "Python 3",
   "language": "python",
   "name": "python3"
  },
  "language_info": {
   "codemirror_mode": {
    "name": "ipython",
    "version": 3
   },
   "file_extension": ".py",
   "mimetype": "text/x-python",
   "name": "python",
   "nbconvert_exporter": "python",
   "pygments_lexer": "ipython3",
   "version": "3.7.3"
  }
 },
 "nbformat": 4,
 "nbformat_minor": 2
}
